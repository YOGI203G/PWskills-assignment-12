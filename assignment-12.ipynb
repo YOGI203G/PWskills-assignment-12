{
 "cells": [
  {
   "cell_type": "markdown",
   "id": "5e7930b9-3dea-41d8-9d36-64f09c098eac",
   "metadata": {},
   "source": [
    "Q1. What is an Exception in python? Write the difference between Exceptions and Syntax errors."
   ]
  },
  {
   "cell_type": "markdown",
   "id": "d83a45c7-53d0-4d8e-899f-8632fa1eb383",
   "metadata": {},
   "source": [
    "An Exception is an error that happens during the execution of a program. Whenever there is an error, Python generates an exception that could be handled. It basically prevents the program from getting crashed."
   ]
  },
  {
   "cell_type": "markdown",
   "id": "e25bdacc-05c9-4fee-a261-192ba2e74d3d",
   "metadata": {},
   "source": [
    "Exceptions can occur for a variety of reasons, such as when a program tries to perform an operation on data that is not the expected type or when a program tries to access a resource that is not available. Python provides a set of built-in Exception classes that can be used to handle different types of exceptions."
   ]
  },
  {
   "cell_type": "markdown",
   "id": "70eacb7e-504e-460f-b41c-293fadb688ee",
   "metadata": {},
   "source": [
    "Syntax errors, on the other hand, occur when there is a problem with the syntax of the Python code itself. These errors occur before the program is executed and are caught by the Python interpreter before the code is run. Examples of syntax errors include forgetting to close a parentheses or a quotation mark, or using an incorrect keyword or operator."
   ]
  },
  {
   "cell_type": "markdown",
   "id": "1df6969d-e474-4e29-bf38-90420ed71196",
   "metadata": {},
   "source": [
    "#Write the difference between Exceptions and Syntax errors."
   ]
  },
  {
   "cell_type": "code",
   "execution_count": 1,
   "id": "bf197801-94d7-448a-a1b5-d582af007f07",
   "metadata": {},
   "outputs": [
    {
     "ename": "SyntaxError",
     "evalue": "invalid syntax. Maybe you meant '==' or ':=' instead of '='? (3412977335.py, line 9)",
     "output_type": "error",
     "traceback": [
      "\u001b[0;36m  Cell \u001b[0;32mIn[1], line 9\u001b[0;36m\u001b[0m\n\u001b[0;31m    if c=15\u001b[0m\n\u001b[0m       ^\u001b[0m\n\u001b[0;31mSyntaxError\u001b[0m\u001b[0;31m:\u001b[0m invalid syntax. Maybe you meant '==' or ':=' instead of '='?\n"
     ]
    }
   ],
   "source": [
    "#exemple of Exception\n",
    "try:\n",
    "    a=10/0\n",
    "except zerodivisionerror:\n",
    "    print(\"Error: Division by zero\")\n",
    "    \n",
    "#example of syntax\n",
    "c = 20\n",
    "if c=15\n",
    "\n",
    "print(\"c is equal to 15\")"
   ]
  },
  {
   "cell_type": "markdown",
   "id": "2c77997d-bc7c-402e-bd03-0fc6d4ab9365",
   "metadata": {},
   "source": [
    "Q2. What happens when an exception is not handled? Explain with an example"
   ]
  },
  {
   "cell_type": "markdown",
   "id": "907ca7bb-3d49-41bf-bbca-0f499d1913bf",
   "metadata": {},
   "source": [
    "When an exception is not handled in a Python program, it will cause the program to terminate and an error message will be displayed that describes the type of exception that occurred and the line of code where the exception occurred."
   ]
  },
  {
   "cell_type": "code",
   "execution_count": 2,
   "id": "2a10e8ae-cb11-4d48-aa38-d35ed51a06f2",
   "metadata": {},
   "outputs": [
    {
     "ename": "ZeroDivisionError",
     "evalue": "division by zero",
     "output_type": "error",
     "traceback": [
      "\u001b[0;31m---------------------------------------------------------------------------\u001b[0m",
      "\u001b[0;31mZeroDivisionError\u001b[0m                         Traceback (most recent call last)",
      "Cell \u001b[0;32mIn[2], line 2\u001b[0m\n\u001b[1;32m      1\u001b[0m \u001b[38;5;66;03m#example of unhandled exception\u001b[39;00m\n\u001b[0;32m----> 2\u001b[0m a \u001b[38;5;241m=\u001b[39m \u001b[38;5;241;43m2\u001b[39;49m\u001b[38;5;241;43m/\u001b[39;49m\u001b[38;5;241;43m0\u001b[39;49m\n\u001b[1;32m      3\u001b[0m \u001b[38;5;28mprint\u001b[39m(\u001b[38;5;124m\"\u001b[39m\u001b[38;5;124mresult:\u001b[39m\u001b[38;5;124m\"\u001b[39m,a)\n",
      "\u001b[0;31mZeroDivisionError\u001b[0m: division by zero"
     ]
    }
   ],
   "source": [
    "#example of unhandled exception\n",
    "a = 2/0\n",
    "print(\"result:\",a)"
   ]
  },
  {
   "cell_type": "markdown",
   "id": "a8c74e22-ee78-4a67-aad8-6049186bb65c",
   "metadata": {},
   "source": [
    "Q3. Which Python statements are used to catch and handle exceptions? Explain with an example"
   ]
  },
  {
   "cell_type": "markdown",
   "id": "27f3dde4-8574-48a0-931b-1316334212d9",
   "metadata": {},
   "source": [
    "In Python, the try and except statements are used to catch and handle exceptions. The try statement is used to enclose a block of code that might raise an exception, while the except statement is used to specify how to handle the exception if one is raised."
   ]
  },
  {
   "cell_type": "code",
   "execution_count": 4,
   "id": "c534e3ab-c0fe-4b7e-a472-9f8188e335a7",
   "metadata": {},
   "outputs": [
    {
     "name": "stdout",
     "output_type": "stream",
     "text": [
      "Error: Division by zero\n"
     ]
    }
   ],
   "source": [
    "#example\n",
    "\n",
    "try:\n",
    "    a = 5 / 0\n",
    "except ZeroDivisionError:\n",
    "    print(\"Error: Division by zero\")"
   ]
  },
  {
   "cell_type": "markdown",
   "id": "ea16937d-1744-48a4-8533-c17289c3f8b7",
   "metadata": {},
   "source": [
    "Q4. Explain with an example:"
   ]
  },
  {
   "cell_type": "markdown",
   "id": "88f1e8f6-79e5-4009-8780-ae2e2ee8c730",
   "metadata": {},
   "source": [
    "a. try and else  b. finally  c. raise\n",
    "\n",
    "In Python, the try statement can be followed by an optional else block. The else block is executed only if the try block does not raise an exception. It is often used to specify code that should be executed regardless of whether an exception occurred or not. Here's an example:"
   ]
  },
  {
   "cell_type": "code",
   "execution_count": 5,
   "id": "1e739825-ee8d-43e1-a3b4-f1516fb6d633",
   "metadata": {},
   "outputs": [
    {
     "name": "stdout",
     "output_type": "stream",
     "text": [
      "a = 5.0\n"
     ]
    }
   ],
   "source": [
    "#example\n",
    "\n",
    "try:\n",
    "    a = 20/4\n",
    "    \n",
    "except ZeroDivisionError:\n",
    "    print(\"Error: Division by zero\")\n",
    "    \n",
    "else:\n",
    "    print(\"a =\", a)"
   ]
  },
  {
   "cell_type": "markdown",
   "id": "c7282f8c-67be-47bf-b21d-19772eb1058f",
   "metadata": {},
   "source": [
    "b.finally\n",
    "\n",
    "In Python, the finally block can be used to specify code that should be executed regardless of whether an exception was raised or not. The finally block is always executed, even if an exception occurred and was caught by an except block. Here's an example:\n"
   ]
  },
  {
   "cell_type": "code",
   "execution_count": null,
   "id": "eee91dcf-009d-463a-b11e-18cc1d7eff74",
   "metadata": {},
   "outputs": [],
   "source": [
    "try:\n",
    "    file = open(\"example.txt\", \"r\")\n",
    "    contents = file.read()\n",
    "    print(contents)\n",
    "except FileNotFoundError:\n",
    "    print(\"Error: File not found\")\n",
    "finally:\n",
    "    file.close()"
   ]
  },
  {
   "cell_type": "markdown",
   "id": "87d06a35-9751-44f1-ae8b-baf5fd4defad",
   "metadata": {},
   "source": [
    "line 1\n",
    "line 2\n",
    "line 3"
   ]
  },
  {
   "cell_type": "markdown",
   "id": "b2bd9695-f59a-416f-b564-469e447ecbfd",
   "metadata": {},
   "source": [
    "c. raise:\n",
    "\n",
    "In Python, the raise statement can be used to raise an exception manually. It is often used to indicate that an error has occurred and to stop the execution of the program. Here's an example"
   ]
  },
  {
   "cell_type": "code",
   "execution_count": 8,
   "id": "4ebf9294-9cbf-4c39-a0ee-ebb52be2c09b",
   "metadata": {},
   "outputs": [
    {
     "name": "stdout",
     "output_type": "stream",
     "text": [
      "Error: Division by zero\n"
     ]
    }
   ],
   "source": [
    "def divide(a, b):\n",
    "    if b == 0:\n",
    "        raise ZeroDivisionError(\"Error: Division by zero\")\n",
    "    else:\n",
    "        return a / b\n",
    "\n",
    "try:\n",
    "    result = divide(10, 0)\n",
    "except ZeroDivisionError as e:\n",
    "    print(e)"
   ]
  },
  {
   "cell_type": "markdown",
   "id": "dbc6b8b9-890b-428d-9559-cf11beb6e99a",
   "metadata": {},
   "source": [
    "Q5. What are Custom Exceptions in python? Why do we need Custom Exceptions? Explain with an example"
   ]
  },
  {
   "cell_type": "markdown",
   "id": "947611c0-3fbb-4494-b2a1-947a51392007",
   "metadata": {},
   "source": [
    "In Python, custom exceptions can be defined by creating a new class that inherits from the built-in Exception class. These custom exceptions can be used to represent specific error conditions that are not covered by the built-in exceptions, and can provide more specific information about what went wrong in the code.\n",
    "\n",
    "We need custom exceptions in Python when we want to raise exceptions that are specific to our own code or application. By creating custom exceptions, we can give more meaningful error messages and provide better feedback to the user. This can help with debugging and troubleshooting, and can make our code more readable and maintainable.\n",
    "\n"
   ]
  },
  {
   "cell_type": "code",
   "execution_count": 9,
   "id": "35ce5d60-c91e-4add-a44e-085b8bce0ca0",
   "metadata": {},
   "outputs": [
    {
     "name": "stdout",
     "output_type": "stream",
     "text": [
      "Error: Negative number not allowed: -5\n"
     ]
    }
   ],
   "source": [
    "class NegativeNumberError(Exception):\n",
    "    def __init__(self, number):\n",
    "        self.number = number\n",
    "        self.message = \"Error: Negative number not allowed\"\n",
    "        super().__init__(self.message)\n",
    "\n",
    "    def __str__(self):\n",
    "        return f\"{self.message}: {self.number}\"\n",
    "\n",
    "def divide(a, b):\n",
    "    if b < 0:\n",
    "        raise NegativeNumberError(b)\n",
    "    else:\n",
    "        return a / b\n",
    "\n",
    "try:\n",
    "    result = divide(25, -5)\n",
    "except NegativeNumberError as e:\n",
    "    print(e)"
   ]
  },
  {
   "cell_type": "markdown",
   "id": "062dec76-6ee1-43f8-bd26-aa01c01bc57f",
   "metadata": {},
   "source": [
    "Q6. Create custom exception class. Use this class to handle an exception."
   ]
  },
  {
   "cell_type": "code",
   "execution_count": 11,
   "id": "fe2611c9-668d-4798-9c62-cace3fabe655",
   "metadata": {},
   "outputs": [
    {
     "name": "stdout",
     "output_type": "stream",
     "text": [
      "Error: Division by zero not allowed\n"
     ]
    }
   ],
   "source": [
    "class CustomException(Exception):\n",
    "    def __init__(self, message):\n",
    "        self.message = message\n",
    "        super().__init__(self.message)\n",
    "\n",
    "def divide(a, b):\n",
    "    if b == 0:\n",
    "        raise CustomException(\"Error: Division by zero not allowed\")\n",
    "    else:\n",
    "        return a / b\n",
    "\n",
    "try:\n",
    "    result = divide(5, 0)\n",
    "except CustomException as e:\n",
    "    print(e.message)"
   ]
  },
  {
   "cell_type": "code",
   "execution_count": null,
   "id": "64f51c07-b103-4016-9af9-a068f1052d51",
   "metadata": {},
   "outputs": [],
   "source": []
  }
 ],
 "metadata": {
  "kernelspec": {
   "display_name": "Python 3 (ipykernel)",
   "language": "python",
   "name": "python3"
  },
  "language_info": {
   "codemirror_mode": {
    "name": "ipython",
    "version": 3
   },
   "file_extension": ".py",
   "mimetype": "text/x-python",
   "name": "python",
   "nbconvert_exporter": "python",
   "pygments_lexer": "ipython3",
   "version": "3.10.8"
  }
 },
 "nbformat": 4,
 "nbformat_minor": 5
}
